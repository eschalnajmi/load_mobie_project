{
 "cells": [
  {
   "cell_type": "code",
   "execution_count": 44,
   "metadata": {},
   "outputs": [],
   "source": [
    "import os\n",
    "import imageio\n",
    "import mobie\n",
    "import cv2\n",
    "import numpy as np\n",
    "from bioio import BioImage\n",
    "import bioio_tifffile\n",
    "from bioio.writers import OmeTiffWriter\n",
    "\n",
    "import tifffile\n",
    "\n",
    "import shutil"
   ]
  },
  {
   "cell_type": "code",
   "execution_count": 246,
   "metadata": {},
   "outputs": [],
   "source": [
    "input_data = \"\"\n",
    "\n",
    "project_folder = \"test_project/data\"\n",
    "\n",
    "dataset_name = \"example\"\n",
    "dataset_folder = os.path.join(project_folder, dataset_name)\n",
    "\n",
    "target = \"local\"\n",
    "max_jobs = 4"
   ]
  },
  {
   "cell_type": "code",
   "execution_count": 16,
   "metadata": {},
   "outputs": [
    {
     "name": "stdout",
     "output_type": "stream",
     "text": [
      "1\n"
     ]
    }
   ],
   "source": [
    "input_file = os.path.join(\"em_20nm_z_40_145.tif\")\n",
    "raw_name = \"em_20nm_z_40_145\"\n",
    "menu_name = \"em\"\n",
    "\n",
    "emimg = BioImage(input_file, reader=bioio_tifffile.Reader)\n",
    "print(len(emimg.channel_names))"
   ]
  },
  {
   "cell_type": "code",
   "execution_count": 247,
   "metadata": {},
   "outputs": [
    {
     "name": "stderr",
     "output_type": "stream",
     "text": [
      "DEBUG: Checking if DownscalingWorkflow(tmp_folder=tmp_example_em_20nm_z_40_145, max_jobs=4, config_dir=tmp_example_em_20nm_z_40_145/configs, target=local, dependency=DummyTask, input_path=em_20nm_z_40_145.tif, input_key=, scale_factors=[[1, 2, 2], [1, 2, 2], [1, 2, 2], [1, 2, 2]], halos=[[1, 2, 2], [1, 2, 2], [1, 2, 2], [1, 2, 2]], dtype=None, int_to_uint=False, metadata_format=ome.zarr, metadata_dict={\"resolution\": [10.0, 10.0, 10.0], \"unit\": \"nanometer\", \"setup_name\": \"em_20nm_z_40_145\"}, output_path=test_project/data/example/images/ome-zarr/em_20nm_z_40_145.ome.zarr, output_key_prefix=, force_copy=False, skip_existing_levels=False, scale_offset=0) is complete\n",
      "DEBUG: Checking if WriteDownscalingMetadata(tmp_folder=tmp_example_em_20nm_z_40_145, output_path=test_project/data/example/images/ome-zarr/em_20nm_z_40_145.ome.zarr, scale_factors=[[1, 2, 2], [1, 2, 2], [1, 2, 2], [1, 2, 2]], dependency=DownscalingLocal, metadata_format=ome.zarr, metadata_dict={\"resolution\": [10.0, 10.0, 10.0], \"unit\": \"nanometer\", \"setup_name\": \"em_20nm_z_40_145\"}, output_key_prefix=, scale_offset=0, prefix=downscaling) is complete\n",
      "INFO: Informed scheduler that task   DownscalingWorkflow_tmp_example_em_2_DummyTask_None_58e37decfb   has status   PENDING\n",
      "DEBUG: Checking if DownscalingLocal(tmp_folder=tmp_example_em_20nm_z_40_145, max_jobs=4, config_dir=tmp_example_em_20nm_z_40_145/configs, input_path=test_project/data/example/images/ome-zarr/em_20nm_z_40_145.ome.zarr, input_key=s3, output_path=test_project/data/example/images/ome-zarr/em_20nm_z_40_145.ome.zarr, output_key=s4, scale_factor=(1, 2, 2), scale_prefix=s4, halo=[1, 2, 2], effective_scale_factor=[1, 16, 16], dimension_separator=/, dependency=DownscalingLocal) is complete\n",
      "INFO: Informed scheduler that task   WriteDownscalingMetadata_DownscalingLocal___resolution_____ome_zarr_a21adaa1f8   has status   PENDING\n",
      "DEBUG: Checking if DownscalingLocal(tmp_folder=tmp_example_em_20nm_z_40_145, max_jobs=4, config_dir=tmp_example_em_20nm_z_40_145/configs, input_path=test_project/data/example/images/ome-zarr/em_20nm_z_40_145.ome.zarr, input_key=s2, output_path=test_project/data/example/images/ome-zarr/em_20nm_z_40_145.ome.zarr, output_key=s3, scale_factor=(1, 2, 2), scale_prefix=s3, halo=[1, 2, 2], effective_scale_factor=[1, 8, 8], dimension_separator=/, dependency=DownscalingLocal) is complete\n",
      "INFO: Informed scheduler that task   DownscalingLocal_tmp_example_em_2_DownscalingLocal___cfe8dfd8e8   has status   PENDING\n",
      "DEBUG: Checking if DownscalingLocal(tmp_folder=tmp_example_em_20nm_z_40_145, max_jobs=4, config_dir=tmp_example_em_20nm_z_40_145/configs, input_path=test_project/data/example/images/ome-zarr/em_20nm_z_40_145.ome.zarr, input_key=s1, output_path=test_project/data/example/images/ome-zarr/em_20nm_z_40_145.ome.zarr, output_key=s2, scale_factor=(1, 2, 2), scale_prefix=s2, halo=[1, 2, 2], effective_scale_factor=[1, 4, 4], dimension_separator=/, dependency=DownscalingLocal) is complete\n",
      "INFO: Informed scheduler that task   DownscalingLocal_tmp_example_em_2_DownscalingLocal___748de86410   has status   PENDING\n",
      "DEBUG: Checking if DownscalingLocal(tmp_folder=tmp_example_em_20nm_z_40_145, max_jobs=4, config_dir=tmp_example_em_20nm_z_40_145/configs, input_path=test_project/data/example/images/ome-zarr/em_20nm_z_40_145.ome.zarr, input_key=s0, output_path=test_project/data/example/images/ome-zarr/em_20nm_z_40_145.ome.zarr, output_key=s1, scale_factor=(1, 2, 2), scale_prefix=s1, halo=[1, 2, 2], effective_scale_factor=[1, 2, 2], dimension_separator=/, dependency=CopyVolumeLocal) is complete\n",
      "INFO: Informed scheduler that task   DownscalingLocal_tmp_example_em_2_DownscalingLocal___6d6165158c   has status   PENDING\n",
      "DEBUG: Checking if CopyVolumeLocal(tmp_folder=tmp_example_em_20nm_z_40_145, max_jobs=4, config_dir=tmp_example_em_20nm_z_40_145/configs, input_path=em_20nm_z_40_145.tif, input_key=, output_path=test_project/data/example/images/ome-zarr/em_20nm_z_40_145.ome.zarr, output_key=s0, prefix=initial_scale, dtype=None, int_to_uint=False, fit_to_roi=False, effective_scale_factor=[], dimension_separator=/, dependency=DummyTask) is complete\n",
      "INFO: Informed scheduler that task   DownscalingLocal_tmp_example_em_2_CopyVolumeLocal___f6c5a11942   has status   PENDING\n",
      "DEBUG: Checking if DummyTask() is complete\n",
      "INFO: Informed scheduler that task   CopyVolumeLocal_tmp_example_em_2_DummyTask___df661230db   has status   PENDING\n",
      "INFO: Informed scheduler that task   DummyTask__99914b932b   has status   DONE\n",
      "INFO: Done scheduling tasks\n",
      "INFO: Running Worker with 1 processes\n",
      "DEBUG: Asking scheduler for work...\n",
      "DEBUG: Pending tasks: 7\n",
      "INFO: [pid 18860] Worker Worker(salt=5137335691, workers=1, host=CH7H1X6L5F, username=najmie, pid=18860) running   CopyVolumeLocal(tmp_folder=tmp_example_em_20nm_z_40_145, max_jobs=4, config_dir=tmp_example_em_20nm_z_40_145/configs, input_path=em_20nm_z_40_145.tif, input_key=, output_path=test_project/data/example/images/ome-zarr/em_20nm_z_40_145.ome.zarr, output_key=s0, prefix=initial_scale, dtype=None, int_to_uint=False, fit_to_roi=False, effective_scale_factor=[], dimension_separator=/, dependency=DummyTask)\n",
      "INFO: [pid 18860] Worker Worker(salt=5137335691, workers=1, host=CH7H1X6L5F, username=najmie, pid=18860) done      CopyVolumeLocal(tmp_folder=tmp_example_em_20nm_z_40_145, max_jobs=4, config_dir=tmp_example_em_20nm_z_40_145/configs, input_path=em_20nm_z_40_145.tif, input_key=, output_path=test_project/data/example/images/ome-zarr/em_20nm_z_40_145.ome.zarr, output_key=s0, prefix=initial_scale, dtype=None, int_to_uint=False, fit_to_roi=False, effective_scale_factor=[], dimension_separator=/, dependency=DummyTask)\n",
      "DEBUG: 1 running tasks, waiting for next task to finish\n",
      "INFO: Informed scheduler that task   CopyVolumeLocal_tmp_example_em_2_DummyTask___df661230db   has status   DONE\n",
      "DEBUG: Asking scheduler for work...\n",
      "DEBUG: Pending tasks: 6\n",
      "INFO: [pid 18860] Worker Worker(salt=5137335691, workers=1, host=CH7H1X6L5F, username=najmie, pid=18860) running   DownscalingLocal(tmp_folder=tmp_example_em_20nm_z_40_145, max_jobs=4, config_dir=tmp_example_em_20nm_z_40_145/configs, input_path=test_project/data/example/images/ome-zarr/em_20nm_z_40_145.ome.zarr, input_key=s0, output_path=test_project/data/example/images/ome-zarr/em_20nm_z_40_145.ome.zarr, output_key=s1, scale_factor=(1, 2, 2), scale_prefix=s1, halo=[1, 2, 2], effective_scale_factor=[1, 2, 2], dimension_separator=/, dependency=CopyVolumeLocal)\n",
      "INFO: [pid 18860] Worker Worker(salt=5137335691, workers=1, host=CH7H1X6L5F, username=najmie, pid=18860) done      DownscalingLocal(tmp_folder=tmp_example_em_20nm_z_40_145, max_jobs=4, config_dir=tmp_example_em_20nm_z_40_145/configs, input_path=test_project/data/example/images/ome-zarr/em_20nm_z_40_145.ome.zarr, input_key=s0, output_path=test_project/data/example/images/ome-zarr/em_20nm_z_40_145.ome.zarr, output_key=s1, scale_factor=(1, 2, 2), scale_prefix=s1, halo=[1, 2, 2], effective_scale_factor=[1, 2, 2], dimension_separator=/, dependency=CopyVolumeLocal)\n",
      "DEBUG: 1 running tasks, waiting for next task to finish\n",
      "INFO: Informed scheduler that task   DownscalingLocal_tmp_example_em_2_CopyVolumeLocal___f6c5a11942   has status   DONE\n",
      "DEBUG: Asking scheduler for work...\n",
      "DEBUG: Pending tasks: 5\n",
      "INFO: [pid 18860] Worker Worker(salt=5137335691, workers=1, host=CH7H1X6L5F, username=najmie, pid=18860) running   DownscalingLocal(tmp_folder=tmp_example_em_20nm_z_40_145, max_jobs=4, config_dir=tmp_example_em_20nm_z_40_145/configs, input_path=test_project/data/example/images/ome-zarr/em_20nm_z_40_145.ome.zarr, input_key=s1, output_path=test_project/data/example/images/ome-zarr/em_20nm_z_40_145.ome.zarr, output_key=s2, scale_factor=(1, 2, 2), scale_prefix=s2, halo=[1, 2, 2], effective_scale_factor=[1, 4, 4], dimension_separator=/, dependency=DownscalingLocal)\n",
      "INFO: [pid 18860] Worker Worker(salt=5137335691, workers=1, host=CH7H1X6L5F, username=najmie, pid=18860) done      DownscalingLocal(tmp_folder=tmp_example_em_20nm_z_40_145, max_jobs=4, config_dir=tmp_example_em_20nm_z_40_145/configs, input_path=test_project/data/example/images/ome-zarr/em_20nm_z_40_145.ome.zarr, input_key=s1, output_path=test_project/data/example/images/ome-zarr/em_20nm_z_40_145.ome.zarr, output_key=s2, scale_factor=(1, 2, 2), scale_prefix=s2, halo=[1, 2, 2], effective_scale_factor=[1, 4, 4], dimension_separator=/, dependency=DownscalingLocal)\n",
      "DEBUG: 1 running tasks, waiting for next task to finish\n",
      "INFO: Informed scheduler that task   DownscalingLocal_tmp_example_em_2_DownscalingLocal___6d6165158c   has status   DONE\n",
      "DEBUG: Asking scheduler for work...\n",
      "DEBUG: Pending tasks: 4\n",
      "INFO: [pid 18860] Worker Worker(salt=5137335691, workers=1, host=CH7H1X6L5F, username=najmie, pid=18860) running   DownscalingLocal(tmp_folder=tmp_example_em_20nm_z_40_145, max_jobs=4, config_dir=tmp_example_em_20nm_z_40_145/configs, input_path=test_project/data/example/images/ome-zarr/em_20nm_z_40_145.ome.zarr, input_key=s2, output_path=test_project/data/example/images/ome-zarr/em_20nm_z_40_145.ome.zarr, output_key=s3, scale_factor=(1, 2, 2), scale_prefix=s3, halo=[1, 2, 2], effective_scale_factor=[1, 8, 8], dimension_separator=/, dependency=DownscalingLocal)\n",
      "INFO: [pid 18860] Worker Worker(salt=5137335691, workers=1, host=CH7H1X6L5F, username=najmie, pid=18860) done      DownscalingLocal(tmp_folder=tmp_example_em_20nm_z_40_145, max_jobs=4, config_dir=tmp_example_em_20nm_z_40_145/configs, input_path=test_project/data/example/images/ome-zarr/em_20nm_z_40_145.ome.zarr, input_key=s2, output_path=test_project/data/example/images/ome-zarr/em_20nm_z_40_145.ome.zarr, output_key=s3, scale_factor=(1, 2, 2), scale_prefix=s3, halo=[1, 2, 2], effective_scale_factor=[1, 8, 8], dimension_separator=/, dependency=DownscalingLocal)\n",
      "DEBUG: 1 running tasks, waiting for next task to finish\n",
      "INFO: Informed scheduler that task   DownscalingLocal_tmp_example_em_2_DownscalingLocal___748de86410   has status   DONE\n",
      "DEBUG: Asking scheduler for work...\n",
      "DEBUG: Pending tasks: 3\n",
      "INFO: [pid 18860] Worker Worker(salt=5137335691, workers=1, host=CH7H1X6L5F, username=najmie, pid=18860) running   DownscalingLocal(tmp_folder=tmp_example_em_20nm_z_40_145, max_jobs=4, config_dir=tmp_example_em_20nm_z_40_145/configs, input_path=test_project/data/example/images/ome-zarr/em_20nm_z_40_145.ome.zarr, input_key=s3, output_path=test_project/data/example/images/ome-zarr/em_20nm_z_40_145.ome.zarr, output_key=s4, scale_factor=(1, 2, 2), scale_prefix=s4, halo=[1, 2, 2], effective_scale_factor=[1, 16, 16], dimension_separator=/, dependency=DownscalingLocal)\n",
      "INFO: [pid 18860] Worker Worker(salt=5137335691, workers=1, host=CH7H1X6L5F, username=najmie, pid=18860) done      DownscalingLocal(tmp_folder=tmp_example_em_20nm_z_40_145, max_jobs=4, config_dir=tmp_example_em_20nm_z_40_145/configs, input_path=test_project/data/example/images/ome-zarr/em_20nm_z_40_145.ome.zarr, input_key=s3, output_path=test_project/data/example/images/ome-zarr/em_20nm_z_40_145.ome.zarr, output_key=s4, scale_factor=(1, 2, 2), scale_prefix=s4, halo=[1, 2, 2], effective_scale_factor=[1, 16, 16], dimension_separator=/, dependency=DownscalingLocal)\n",
      "DEBUG: 1 running tasks, waiting for next task to finish\n",
      "INFO: Informed scheduler that task   DownscalingLocal_tmp_example_em_2_DownscalingLocal___cfe8dfd8e8   has status   DONE\n",
      "DEBUG: Asking scheduler for work...\n",
      "DEBUG: Pending tasks: 2\n",
      "INFO: [pid 18860] Worker Worker(salt=5137335691, workers=1, host=CH7H1X6L5F, username=najmie, pid=18860) running   WriteDownscalingMetadata(tmp_folder=tmp_example_em_20nm_z_40_145, output_path=test_project/data/example/images/ome-zarr/em_20nm_z_40_145.ome.zarr, scale_factors=[[1, 2, 2], [1, 2, 2], [1, 2, 2], [1, 2, 2]], dependency=DownscalingLocal, metadata_format=ome.zarr, metadata_dict={\"resolution\": [10.0, 10.0, 10.0], \"unit\": \"nanometer\", \"setup_name\": \"em_20nm_z_40_145\"}, output_key_prefix=, scale_offset=0, prefix=downscaling)\n",
      "INFO: [pid 18860] Worker Worker(salt=5137335691, workers=1, host=CH7H1X6L5F, username=najmie, pid=18860) done      WriteDownscalingMetadata(tmp_folder=tmp_example_em_20nm_z_40_145, output_path=test_project/data/example/images/ome-zarr/em_20nm_z_40_145.ome.zarr, scale_factors=[[1, 2, 2], [1, 2, 2], [1, 2, 2], [1, 2, 2]], dependency=DownscalingLocal, metadata_format=ome.zarr, metadata_dict={\"resolution\": [10.0, 10.0, 10.0], \"unit\": \"nanometer\", \"setup_name\": \"em_20nm_z_40_145\"}, output_key_prefix=, scale_offset=0, prefix=downscaling)\n",
      "DEBUG: 1 running tasks, waiting for next task to finish\n",
      "INFO: Informed scheduler that task   WriteDownscalingMetadata_DownscalingLocal___resolution_____ome_zarr_a21adaa1f8   has status   DONE\n",
      "DEBUG: Asking scheduler for work...\n",
      "DEBUG: Pending tasks: 1\n",
      "INFO: [pid 18860] Worker Worker(salt=5137335691, workers=1, host=CH7H1X6L5F, username=najmie, pid=18860) running   DownscalingWorkflow(tmp_folder=tmp_example_em_20nm_z_40_145, max_jobs=4, config_dir=tmp_example_em_20nm_z_40_145/configs, target=local, dependency=DummyTask, input_path=em_20nm_z_40_145.tif, input_key=, scale_factors=[[1, 2, 2], [1, 2, 2], [1, 2, 2], [1, 2, 2]], halos=[[1, 2, 2], [1, 2, 2], [1, 2, 2], [1, 2, 2]], dtype=None, int_to_uint=False, metadata_format=ome.zarr, metadata_dict={\"resolution\": [10.0, 10.0, 10.0], \"unit\": \"nanometer\", \"setup_name\": \"em_20nm_z_40_145\"}, output_path=test_project/data/example/images/ome-zarr/em_20nm_z_40_145.ome.zarr, output_key_prefix=, force_copy=False, skip_existing_levels=False, scale_offset=0)\n",
      "INFO: [pid 18860] Worker Worker(salt=5137335691, workers=1, host=CH7H1X6L5F, username=najmie, pid=18860) done      DownscalingWorkflow(tmp_folder=tmp_example_em_20nm_z_40_145, max_jobs=4, config_dir=tmp_example_em_20nm_z_40_145/configs, target=local, dependency=DummyTask, input_path=em_20nm_z_40_145.tif, input_key=, scale_factors=[[1, 2, 2], [1, 2, 2], [1, 2, 2], [1, 2, 2]], halos=[[1, 2, 2], [1, 2, 2], [1, 2, 2], [1, 2, 2]], dtype=None, int_to_uint=False, metadata_format=ome.zarr, metadata_dict={\"resolution\": [10.0, 10.0, 10.0], \"unit\": \"nanometer\", \"setup_name\": \"em_20nm_z_40_145\"}, output_path=test_project/data/example/images/ome-zarr/em_20nm_z_40_145.ome.zarr, output_key_prefix=, force_copy=False, skip_existing_levels=False, scale_offset=0)\n",
      "DEBUG: 1 running tasks, waiting for next task to finish\n",
      "INFO: Informed scheduler that task   DownscalingWorkflow_tmp_example_em_2_DummyTask_None_58e37decfb   has status   DONE\n",
      "DEBUG: Asking scheduler for work...\n",
      "DEBUG: Done\n",
      "DEBUG: There are no more tasks to run at this time\n",
      "INFO: Worker Worker(salt=5137335691, workers=1, host=CH7H1X6L5F, username=najmie, pid=18860) was stopped. Shutting down Keep-Alive thread\n",
      "INFO: \n",
      "===== Luigi Execution Summary =====\n",
      "\n",
      "Scheduled 8 tasks of which:\n",
      "* 1 complete ones were encountered:\n",
      "    - 1 DummyTask()\n",
      "* 7 ran successfully:\n",
      "    - 1 CopyVolumeLocal(...)\n",
      "    - 4 DownscalingLocal(...)\n",
      "    - 1 DownscalingWorkflow(...)\n",
      "    - 1 WriteDownscalingMetadata(...)\n",
      "\n",
      "This progress looks :) because there were no failed tasks or missing dependencies\n",
      "\n",
      "===== Luigi Execution Summary =====\n",
      "\n"
     ]
    }
   ],
   "source": [
    "unit=\"nanometer\"\n",
    "resolution = (10., 10.,10.)\n",
    "chunks = (64,64,64)\n",
    "scale_factors = 4* [[1,2,2]]\n",
    "\n",
    "mobie.add_image(\n",
    "    input_path=input_file,\n",
    "    input_key='',\n",
    "    root=project_folder,\n",
    "    dataset_name=dataset_name,\n",
    "    image_name=raw_name,\n",
    "    menu_name=menu_name,\n",
    "    resolution=resolution,\n",
    "    chunks=chunks,\n",
    "    scale_factors=scale_factors,\n",
    "    is_default_dataset=True,\n",
    "    target=target,\n",
    "    max_jobs=max_jobs,\n",
    "    unit=unit\n",
    ")"
   ]
  },
  {
   "cell_type": "code",
   "execution_count": 45,
   "metadata": {},
   "outputs": [
    {
     "name": "stdout",
     "output_type": "stream",
     "text": [
      "Converting to 4 single channel image(s): \n",
      "Converted channel Channel:0:0\n",
      "Converted channel Channel:0:1\n",
      "Converted channel Channel:0:2\n",
      "Converted channel Channel:0:3\n"
     ]
    },
    {
     "data": {
      "text/plain": [
       "'lmimg = np.array(lmimg)[:,0,:,:]\\ntifffile.imwrite(\"3d.tif\", lmimg, imagej=True)\\ninput_path = \"3d.tif\"'"
      ]
     },
     "execution_count": 45,
     "metadata": {},
     "output_type": "execute_result"
    }
   ],
   "source": [
    "input_path = \"EM04468_2_63x_pos8T_LM_raw.tif\"\n",
    "im_name = \"3d\"\n",
    "menu_name = \"lm\"\n",
    "\n",
    "lmimg = BioImage(input_path, reader=bioio_tifffile.Reader)\n",
    "\n",
    "all_lm = []\n",
    "\n",
    "if len(lmimg.channel_names) > 1:\n",
    "    num_channels = len(lmimg.channel_names)\n",
    "    print(f\"Converting to {num_channels} single channel image(s): \")\n",
    "    for i in range(num_channels):\n",
    "        try:\n",
    "            tempimg = lmimg.get_image_data(\"TCZYX\",C=i)\n",
    "            print(f\"Converted channel {lmimg.channel_names[i]}\")\n",
    "            OmeTiffWriter.save(tempimg, f\"temp{i+1}.tif\")\n",
    "        except:\n",
    "            print(f\"Could not convert channel {lmimg.channel_names[i]}\")\n",
    "\n",
    "'''lmimg = np.array(lmimg)[:,0,:,:]\n",
    "tifffile.imwrite(\"3d.tif\", lmimg, imagej=True)\n",
    "input_path = \"3d.tif\"'''"
   ]
  },
  {
   "cell_type": "code",
   "execution_count": 250,
   "metadata": {},
   "outputs": [
    {
     "name": "stderr",
     "output_type": "stream",
     "text": [
      "DEBUG: Checking if DownscalingWorkflow(tmp_folder=tmp_example_3d, max_jobs=4, config_dir=tmp_example_3d/configs, target=local, dependency=DummyTask, input_path=3d.tif, input_key=, scale_factors=[[1, 2, 2], [1, 2, 2], [1, 2, 2], [1, 2, 2]], halos=[[1, 2, 2], [1, 2, 2], [1, 2, 2], [1, 2, 2]], dtype=None, int_to_uint=False, metadata_format=ome.zarr, metadata_dict={\"resolution\": [37.857142857142854, 14.274061990212072, 12.104404567699838], \"unit\": \"nanometer\", \"setup_name\": \"3d\"}, output_path=test_project/data/example/images/ome-zarr/3d.ome.zarr, output_key_prefix=, force_copy=False, skip_existing_levels=False, scale_offset=0) is complete\n",
      "DEBUG: Checking if WriteDownscalingMetadata(tmp_folder=tmp_example_3d, output_path=test_project/data/example/images/ome-zarr/3d.ome.zarr, scale_factors=[[1, 2, 2], [1, 2, 2], [1, 2, 2], [1, 2, 2]], dependency=DownscalingLocal, metadata_format=ome.zarr, metadata_dict={\"resolution\": [37.857142857142854, 14.274061990212072, 12.104404567699838], \"unit\": \"nanometer\", \"setup_name\": \"3d\"}, output_key_prefix=, scale_offset=0, prefix=downscaling) is complete\n",
      "INFO: Informed scheduler that task   DownscalingWorkflow_tmp_example_3d_c_DummyTask_None_46e12ae4b6   has status   PENDING\n",
      "DEBUG: Checking if DownscalingLocal(tmp_folder=tmp_example_3d, max_jobs=4, config_dir=tmp_example_3d/configs, input_path=test_project/data/example/images/ome-zarr/3d.ome.zarr, input_key=s3, output_path=test_project/data/example/images/ome-zarr/3d.ome.zarr, output_key=s4, scale_factor=(1, 2, 2), scale_prefix=s4, halo=[1, 2, 2], effective_scale_factor=[1, 16, 16], dimension_separator=/, dependency=DownscalingLocal) is complete\n",
      "INFO: Informed scheduler that task   WriteDownscalingMetadata_DownscalingLocal___resolution_____ome_zarr_8aaf3866d3   has status   PENDING\n",
      "DEBUG: Checking if DownscalingLocal(tmp_folder=tmp_example_3d, max_jobs=4, config_dir=tmp_example_3d/configs, input_path=test_project/data/example/images/ome-zarr/3d.ome.zarr, input_key=s2, output_path=test_project/data/example/images/ome-zarr/3d.ome.zarr, output_key=s3, scale_factor=(1, 2, 2), scale_prefix=s3, halo=[1, 2, 2], effective_scale_factor=[1, 8, 8], dimension_separator=/, dependency=DownscalingLocal) is complete\n",
      "INFO: Informed scheduler that task   DownscalingLocal_tmp_example_3d_c_DownscalingLocal___eef858723f   has status   PENDING\n",
      "DEBUG: Checking if DownscalingLocal(tmp_folder=tmp_example_3d, max_jobs=4, config_dir=tmp_example_3d/configs, input_path=test_project/data/example/images/ome-zarr/3d.ome.zarr, input_key=s1, output_path=test_project/data/example/images/ome-zarr/3d.ome.zarr, output_key=s2, scale_factor=(1, 2, 2), scale_prefix=s2, halo=[1, 2, 2], effective_scale_factor=[1, 4, 4], dimension_separator=/, dependency=DownscalingLocal) is complete\n",
      "INFO: Informed scheduler that task   DownscalingLocal_tmp_example_3d_c_DownscalingLocal___8162534b3f   has status   PENDING\n",
      "DEBUG: Checking if DownscalingLocal(tmp_folder=tmp_example_3d, max_jobs=4, config_dir=tmp_example_3d/configs, input_path=test_project/data/example/images/ome-zarr/3d.ome.zarr, input_key=s0, output_path=test_project/data/example/images/ome-zarr/3d.ome.zarr, output_key=s1, scale_factor=(1, 2, 2), scale_prefix=s1, halo=[1, 2, 2], effective_scale_factor=[1, 2, 2], dimension_separator=/, dependency=CopyVolumeLocal) is complete\n",
      "INFO: Informed scheduler that task   DownscalingLocal_tmp_example_3d_c_DownscalingLocal___28fb250f1a   has status   PENDING\n",
      "DEBUG: Checking if CopyVolumeLocal(tmp_folder=tmp_example_3d, max_jobs=4, config_dir=tmp_example_3d/configs, input_path=3d.tif, input_key=, output_path=test_project/data/example/images/ome-zarr/3d.ome.zarr, output_key=s0, prefix=initial_scale, dtype=None, int_to_uint=False, fit_to_roi=False, effective_scale_factor=[], dimension_separator=/, dependency=DummyTask) is complete\n",
      "INFO: Informed scheduler that task   DownscalingLocal_tmp_example_3d_c_CopyVolumeLocal___5f40960721   has status   PENDING\n",
      "DEBUG: Checking if DummyTask() is complete\n",
      "INFO: Informed scheduler that task   CopyVolumeLocal_tmp_example_3d_c_DummyTask___ce6098829e   has status   PENDING\n",
      "INFO: Informed scheduler that task   DummyTask__99914b932b   has status   DONE\n",
      "INFO: Done scheduling tasks\n",
      "INFO: Running Worker with 1 processes\n",
      "DEBUG: Asking scheduler for work...\n",
      "DEBUG: Pending tasks: 7\n",
      "INFO: [pid 18860] Worker Worker(salt=012991069, workers=1, host=CH7H1X6L5F, username=najmie, pid=18860) running   CopyVolumeLocal(tmp_folder=tmp_example_3d, max_jobs=4, config_dir=tmp_example_3d/configs, input_path=3d.tif, input_key=, output_path=test_project/data/example/images/ome-zarr/3d.ome.zarr, output_key=s0, prefix=initial_scale, dtype=None, int_to_uint=False, fit_to_roi=False, effective_scale_factor=[], dimension_separator=/, dependency=DummyTask)\n",
      "INFO: [pid 18860] Worker Worker(salt=012991069, workers=1, host=CH7H1X6L5F, username=najmie, pid=18860) done      CopyVolumeLocal(tmp_folder=tmp_example_3d, max_jobs=4, config_dir=tmp_example_3d/configs, input_path=3d.tif, input_key=, output_path=test_project/data/example/images/ome-zarr/3d.ome.zarr, output_key=s0, prefix=initial_scale, dtype=None, int_to_uint=False, fit_to_roi=False, effective_scale_factor=[], dimension_separator=/, dependency=DummyTask)\n",
      "DEBUG: 1 running tasks, waiting for next task to finish\n",
      "INFO: Informed scheduler that task   CopyVolumeLocal_tmp_example_3d_c_DummyTask___ce6098829e   has status   DONE\n",
      "DEBUG: Asking scheduler for work...\n",
      "DEBUG: Pending tasks: 6\n",
      "INFO: [pid 18860] Worker Worker(salt=012991069, workers=1, host=CH7H1X6L5F, username=najmie, pid=18860) running   DownscalingLocal(tmp_folder=tmp_example_3d, max_jobs=4, config_dir=tmp_example_3d/configs, input_path=test_project/data/example/images/ome-zarr/3d.ome.zarr, input_key=s0, output_path=test_project/data/example/images/ome-zarr/3d.ome.zarr, output_key=s1, scale_factor=(1, 2, 2), scale_prefix=s1, halo=[1, 2, 2], effective_scale_factor=[1, 2, 2], dimension_separator=/, dependency=CopyVolumeLocal)\n",
      "INFO: [pid 18860] Worker Worker(salt=012991069, workers=1, host=CH7H1X6L5F, username=najmie, pid=18860) done      DownscalingLocal(tmp_folder=tmp_example_3d, max_jobs=4, config_dir=tmp_example_3d/configs, input_path=test_project/data/example/images/ome-zarr/3d.ome.zarr, input_key=s0, output_path=test_project/data/example/images/ome-zarr/3d.ome.zarr, output_key=s1, scale_factor=(1, 2, 2), scale_prefix=s1, halo=[1, 2, 2], effective_scale_factor=[1, 2, 2], dimension_separator=/, dependency=CopyVolumeLocal)\n",
      "DEBUG: 1 running tasks, waiting for next task to finish\n",
      "INFO: Informed scheduler that task   DownscalingLocal_tmp_example_3d_c_CopyVolumeLocal___5f40960721   has status   DONE\n",
      "DEBUG: Asking scheduler for work...\n",
      "DEBUG: Pending tasks: 5\n",
      "INFO: [pid 18860] Worker Worker(salt=012991069, workers=1, host=CH7H1X6L5F, username=najmie, pid=18860) running   DownscalingLocal(tmp_folder=tmp_example_3d, max_jobs=4, config_dir=tmp_example_3d/configs, input_path=test_project/data/example/images/ome-zarr/3d.ome.zarr, input_key=s1, output_path=test_project/data/example/images/ome-zarr/3d.ome.zarr, output_key=s2, scale_factor=(1, 2, 2), scale_prefix=s2, halo=[1, 2, 2], effective_scale_factor=[1, 4, 4], dimension_separator=/, dependency=DownscalingLocal)\n",
      "INFO: [pid 18860] Worker Worker(salt=012991069, workers=1, host=CH7H1X6L5F, username=najmie, pid=18860) done      DownscalingLocal(tmp_folder=tmp_example_3d, max_jobs=4, config_dir=tmp_example_3d/configs, input_path=test_project/data/example/images/ome-zarr/3d.ome.zarr, input_key=s1, output_path=test_project/data/example/images/ome-zarr/3d.ome.zarr, output_key=s2, scale_factor=(1, 2, 2), scale_prefix=s2, halo=[1, 2, 2], effective_scale_factor=[1, 4, 4], dimension_separator=/, dependency=DownscalingLocal)\n",
      "DEBUG: 1 running tasks, waiting for next task to finish\n",
      "INFO: Informed scheduler that task   DownscalingLocal_tmp_example_3d_c_DownscalingLocal___28fb250f1a   has status   DONE\n",
      "DEBUG: Asking scheduler for work...\n",
      "DEBUG: Pending tasks: 4\n",
      "INFO: [pid 18860] Worker Worker(salt=012991069, workers=1, host=CH7H1X6L5F, username=najmie, pid=18860) running   DownscalingLocal(tmp_folder=tmp_example_3d, max_jobs=4, config_dir=tmp_example_3d/configs, input_path=test_project/data/example/images/ome-zarr/3d.ome.zarr, input_key=s2, output_path=test_project/data/example/images/ome-zarr/3d.ome.zarr, output_key=s3, scale_factor=(1, 2, 2), scale_prefix=s3, halo=[1, 2, 2], effective_scale_factor=[1, 8, 8], dimension_separator=/, dependency=DownscalingLocal)\n",
      "INFO: [pid 18860] Worker Worker(salt=012991069, workers=1, host=CH7H1X6L5F, username=najmie, pid=18860) done      DownscalingLocal(tmp_folder=tmp_example_3d, max_jobs=4, config_dir=tmp_example_3d/configs, input_path=test_project/data/example/images/ome-zarr/3d.ome.zarr, input_key=s2, output_path=test_project/data/example/images/ome-zarr/3d.ome.zarr, output_key=s3, scale_factor=(1, 2, 2), scale_prefix=s3, halo=[1, 2, 2], effective_scale_factor=[1, 8, 8], dimension_separator=/, dependency=DownscalingLocal)\n",
      "DEBUG: 1 running tasks, waiting for next task to finish\n",
      "INFO: Informed scheduler that task   DownscalingLocal_tmp_example_3d_c_DownscalingLocal___8162534b3f   has status   DONE\n",
      "DEBUG: Asking scheduler for work...\n",
      "DEBUG: Pending tasks: 3\n",
      "INFO: [pid 18860] Worker Worker(salt=012991069, workers=1, host=CH7H1X6L5F, username=najmie, pid=18860) running   DownscalingLocal(tmp_folder=tmp_example_3d, max_jobs=4, config_dir=tmp_example_3d/configs, input_path=test_project/data/example/images/ome-zarr/3d.ome.zarr, input_key=s3, output_path=test_project/data/example/images/ome-zarr/3d.ome.zarr, output_key=s4, scale_factor=(1, 2, 2), scale_prefix=s4, halo=[1, 2, 2], effective_scale_factor=[1, 16, 16], dimension_separator=/, dependency=DownscalingLocal)\n",
      "INFO: [pid 18860] Worker Worker(salt=012991069, workers=1, host=CH7H1X6L5F, username=najmie, pid=18860) done      DownscalingLocal(tmp_folder=tmp_example_3d, max_jobs=4, config_dir=tmp_example_3d/configs, input_path=test_project/data/example/images/ome-zarr/3d.ome.zarr, input_key=s3, output_path=test_project/data/example/images/ome-zarr/3d.ome.zarr, output_key=s4, scale_factor=(1, 2, 2), scale_prefix=s4, halo=[1, 2, 2], effective_scale_factor=[1, 16, 16], dimension_separator=/, dependency=DownscalingLocal)\n",
      "DEBUG: 1 running tasks, waiting for next task to finish\n",
      "INFO: Informed scheduler that task   DownscalingLocal_tmp_example_3d_c_DownscalingLocal___eef858723f   has status   DONE\n",
      "DEBUG: Asking scheduler for work...\n",
      "DEBUG: Pending tasks: 2\n",
      "INFO: [pid 18860] Worker Worker(salt=012991069, workers=1, host=CH7H1X6L5F, username=najmie, pid=18860) running   WriteDownscalingMetadata(tmp_folder=tmp_example_3d, output_path=test_project/data/example/images/ome-zarr/3d.ome.zarr, scale_factors=[[1, 2, 2], [1, 2, 2], [1, 2, 2], [1, 2, 2]], dependency=DownscalingLocal, metadata_format=ome.zarr, metadata_dict={\"resolution\": [37.857142857142854, 14.274061990212072, 12.104404567699838], \"unit\": \"nanometer\", \"setup_name\": \"3d\"}, output_key_prefix=, scale_offset=0, prefix=downscaling)\n",
      "INFO: [pid 18860] Worker Worker(salt=012991069, workers=1, host=CH7H1X6L5F, username=najmie, pid=18860) done      WriteDownscalingMetadata(tmp_folder=tmp_example_3d, output_path=test_project/data/example/images/ome-zarr/3d.ome.zarr, scale_factors=[[1, 2, 2], [1, 2, 2], [1, 2, 2], [1, 2, 2]], dependency=DownscalingLocal, metadata_format=ome.zarr, metadata_dict={\"resolution\": [37.857142857142854, 14.274061990212072, 12.104404567699838], \"unit\": \"nanometer\", \"setup_name\": \"3d\"}, output_key_prefix=, scale_offset=0, prefix=downscaling)\n",
      "DEBUG: 1 running tasks, waiting for next task to finish\n",
      "INFO: Informed scheduler that task   WriteDownscalingMetadata_DownscalingLocal___resolution_____ome_zarr_8aaf3866d3   has status   DONE\n",
      "DEBUG: Asking scheduler for work...\n",
      "DEBUG: Pending tasks: 1\n",
      "INFO: [pid 18860] Worker Worker(salt=012991069, workers=1, host=CH7H1X6L5F, username=najmie, pid=18860) running   DownscalingWorkflow(tmp_folder=tmp_example_3d, max_jobs=4, config_dir=tmp_example_3d/configs, target=local, dependency=DummyTask, input_path=3d.tif, input_key=, scale_factors=[[1, 2, 2], [1, 2, 2], [1, 2, 2], [1, 2, 2]], halos=[[1, 2, 2], [1, 2, 2], [1, 2, 2], [1, 2, 2]], dtype=None, int_to_uint=False, metadata_format=ome.zarr, metadata_dict={\"resolution\": [37.857142857142854, 14.274061990212072, 12.104404567699838], \"unit\": \"nanometer\", \"setup_name\": \"3d\"}, output_path=test_project/data/example/images/ome-zarr/3d.ome.zarr, output_key_prefix=, force_copy=False, skip_existing_levels=False, scale_offset=0)\n",
      "INFO: [pid 18860] Worker Worker(salt=012991069, workers=1, host=CH7H1X6L5F, username=najmie, pid=18860) done      DownscalingWorkflow(tmp_folder=tmp_example_3d, max_jobs=4, config_dir=tmp_example_3d/configs, target=local, dependency=DummyTask, input_path=3d.tif, input_key=, scale_factors=[[1, 2, 2], [1, 2, 2], [1, 2, 2], [1, 2, 2]], halos=[[1, 2, 2], [1, 2, 2], [1, 2, 2], [1, 2, 2]], dtype=None, int_to_uint=False, metadata_format=ome.zarr, metadata_dict={\"resolution\": [37.857142857142854, 14.274061990212072, 12.104404567699838], \"unit\": \"nanometer\", \"setup_name\": \"3d\"}, output_path=test_project/data/example/images/ome-zarr/3d.ome.zarr, output_key_prefix=, force_copy=False, skip_existing_levels=False, scale_offset=0)\n",
      "DEBUG: 1 running tasks, waiting for next task to finish\n",
      "INFO: Informed scheduler that task   DownscalingWorkflow_tmp_example_3d_c_DummyTask_None_46e12ae4b6   has status   DONE\n",
      "DEBUG: Asking scheduler for work...\n",
      "DEBUG: Done\n",
      "DEBUG: There are no more tasks to run at this time\n",
      "INFO: Worker Worker(salt=012991069, workers=1, host=CH7H1X6L5F, username=najmie, pid=18860) was stopped. Shutting down Keep-Alive thread\n",
      "INFO: \n",
      "===== Luigi Execution Summary =====\n",
      "\n",
      "Scheduled 8 tasks of which:\n",
      "* 1 complete ones were encountered:\n",
      "    - 1 DummyTask()\n",
      "* 7 ran successfully:\n",
      "    - 1 CopyVolumeLocal(...)\n",
      "    - 4 DownscalingLocal(...)\n",
      "    - 1 DownscalingWorkflow(...)\n",
      "    - 1 WriteDownscalingMetadata(...)\n",
      "\n",
      "This progress looks :) because there were no failed tasks or missing dependencies\n",
      "\n",
      "===== Luigi Execution Summary =====\n",
      "\n"
     ]
    }
   ],
   "source": [
    "unit=\"nanometer\"\n",
    "resolution = (10, 10, 10)\n",
    "chunks = (64,64,64)\n",
    "scale_factors = 4 * [[1, 2, 2]]\n",
    "\n",
    "view = mobie.metadata.get_default_view(\"image\", im_name, color=\"green\")\n",
    "\n",
    "mobie.add_image(\n",
    "    input_path=input_path,\n",
    "    input_key='',\n",
    "    root=project_folder,\n",
    "    dataset_name=dataset_name,\n",
    "    image_name=im_name,\n",
    "    menu_name=menu_name,\n",
    "    resolution=resolution,\n",
    "    chunks=chunks,\n",
    "    scale_factors=scale_factors,\n",
    "    is_default_dataset=False,\n",
    "    target=target,\n",
    "    max_jobs=max_jobs,\n",
    "    unit=unit,\n",
    "    view=view \n",
    ")\n"
   ]
  },
  {
   "cell_type": "code",
   "execution_count": 251,
   "metadata": {},
   "outputs": [
    {
     "name": "stderr",
     "output_type": "stream",
     "text": [
      "/Users/najmie/miniconda3/envs/testmobie2/lib/python3.11/site-packages/mobie/metadata/dataset_metadata.py:72: UserWarning: A view with name default already exists for the dataset test_project/data/example\n",
      "  warnings.warn(msg)\n"
     ]
    }
   ],
   "source": [
    "source_list = [[raw_name],[im_name]]\n",
    "settings = [ \n",
    "    {\"color\": \"white\", \"contrastLimits\": [0., 255.]},\n",
    "    {\"color\": \"green\", \"opacity\": 0.75}\n",
    "]\n",
    "\n",
    "mobie.create_view(dataset_folder, \"default\",\n",
    "                  sources=source_list, display_settings=settings,\n",
    "                  overwrite=True)"
   ]
  },
  {
   "cell_type": "code",
   "execution_count": 252,
   "metadata": {},
   "outputs": [],
   "source": [
    "for dir in os.listdir(os.getcwd()):\n",
    "    if(dir[0:3] == \"tmp\"):\n",
    "        shutil.rmtree(dir)"
   ]
  }
 ],
 "metadata": {
  "kernelspec": {
   "display_name": "testmobie2",
   "language": "python",
   "name": "python3"
  },
  "language_info": {
   "codemirror_mode": {
    "name": "ipython",
    "version": 3
   },
   "file_extension": ".py",
   "mimetype": "text/x-python",
   "name": "python",
   "nbconvert_exporter": "python",
   "pygments_lexer": "ipython3",
   "version": "3.11.8"
  }
 },
 "nbformat": 4,
 "nbformat_minor": 2
}
