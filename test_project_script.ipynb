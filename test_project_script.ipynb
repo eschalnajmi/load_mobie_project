{
 "cells": [
  {
   "cell_type": "code",
   "execution_count": 1,
   "metadata": {},
   "outputs": [],
   "source": [
    "import os\n",
    "import mobie\n",
    "from bioio import BioImage\n",
    "import bioio_tifffile\n",
    "from bioio.writers import OmeTiffWriter\n",
    "\n",
    "import shutil"
   ]
  },
  {
   "cell_type": "code",
   "execution_count": 2,
   "metadata": {},
   "outputs": [],
   "source": [
    "def splitchannels(img,path):\n",
    "    num_channels = len(img.channel_names)\n",
    "    all = []\n",
    "    allnames = []\n",
    "    fname = os.path.basename(path)[:-4]\n",
    "\n",
    "    print(f\"Converting {path} to {num_channels} single channel image(s): \")\n",
    "    for i in range(num_channels):\n",
    "        if os.path.isfile(f\"data/tmp_{fname}_C{i+1}.tif\"):\n",
    "            print(f\"\\tConverted channel {img.channel_names[i]} :D\")\n",
    "            all.append(f\"data/tmp_{fname}_C{i+1}.tif\")\n",
    "            allnames.append(f\"{i}_{fname}\")\n",
    "            continue\n",
    "\n",
    "        try:\n",
    "            tempimg = img.get_image_data(\"TCZYX\",C=i)\n",
    "            print(f\"\\tConverted channel {img.channel_names[i]} :D\")\n",
    "            OmeTiffWriter.save(tempimg, f\"data/tmp_{fname}_C{i+1}.tif\")\n",
    "            all.append(f\"data/tmp_{fname}_C{i+1}.tif\")\n",
    "            allnames.append(f\"{i}_{fname}\")\n",
    "        except:\n",
    "            print(f\"Could not convert channel {img.channel_names[i]} :(\")\n",
    "\n",
    "    return all, allnames"
   ]
  },
  {
   "cell_type": "code",
   "execution_count": 3,
   "metadata": {},
   "outputs": [],
   "source": [
    "def checkchannels(path):\n",
    "    img = BioImage(path, reader=bioio_tifffile.Reader)\n",
    "\n",
    "    if len(img.channel_names) > 1:\n",
    "        return splitchannels(img,path)\n",
    "    else:\n",
    "        print(f\"Only one channel found in {path} - no conversion needed :)\")\n",
    "        return [path], [os.path.basename(path)]"
   ]
  },
  {
   "cell_type": "code",
   "execution_count": 4,
   "metadata": {},
   "outputs": [],
   "source": [
    "def addimg(input_path, im_name, menu_name, project_folder, dataset_name, target, max_jobs):\n",
    "    unit=\"nanometer\"\n",
    "    resolution = (10, 10, 10)\n",
    "    chunks = (64,64,64)\n",
    "    scale_factors = 4 * [[1, 2, 2]]\n",
    "\n",
    "    view = mobie.metadata.get_default_view(\"image\", im_name, color=\"green\")\n",
    "\n",
    "    mobie.add_image(\n",
    "        input_path=input_path,\n",
    "        input_key='',\n",
    "        root=project_folder,\n",
    "        dataset_name=dataset_name,\n",
    "        image_name=im_name,\n",
    "        menu_name=menu_name,\n",
    "        resolution=resolution,\n",
    "        chunks=chunks,\n",
    "        scale_factors=scale_factors,\n",
    "        is_default_dataset=False,\n",
    "        target=target,\n",
    "        max_jobs=max_jobs,\n",
    "        unit=unit,\n",
    "        view=view \n",
    "    )\n"
   ]
  },
  {
   "cell_type": "code",
   "execution_count": 5,
   "metadata": {},
   "outputs": [],
   "source": [
    "project_folder = \"test_project/data\"\n",
    "\n",
    "dataset_name = \"example\"\n",
    "dataset_folder = os.path.join(project_folder, dataset_name)\n",
    "\n",
    "target = \"local\"\n",
    "max_jobs = 4"
   ]
  },
  {
   "cell_type": "code",
   "execution_count": null,
   "metadata": {},
   "outputs": [],
   "source": [
    "input_file = os.path.join(\"data/em_20nm_z_40_145.tif\")\n",
    "raw_name = \"em_20nm_z_40_145\"\n",
    "menu_name = \"em\"\n",
    "\n",
    "all_em, emnames = checkchannels(input_file)\n",
    "\n",
    "if(len(all_em) == 1):\n",
    "    addimg(all_em[0],raw_name,menu_name, project_folder, dataset_name, target, max_jobs)\n",
    "    emnames = [raw_name]\n",
    "else:\n",
    "    for i, x in enumerate(all_em):\n",
    "        addimg(x,f\"{i}_{raw_name}\",menu_name, project_folder, dataset_name, target, max_jobs)"
   ]
  },
  {
   "cell_type": "code",
   "execution_count": null,
   "metadata": {},
   "outputs": [],
   "source": [
    "input_path = \"data/EM04468_2_63x_pos8T_LM_raw.tif\"\n",
    "im_name = \"EM04468_2_63x_pos8T_LM_raw\"\n",
    "menu_name = \"lm\"\n",
    "\n",
    "all_lm, lmnames = checkchannels(input_path)\n",
    "\n",
    "if(len(all_lm) == 1):\n",
    "    addimg(all_lm[0],im_name,menu_name, project_folder, dataset_name, target, max_jobs)\n",
    "else:\n",
    "    for i, x in enumerate(all_lm):\n",
    "        addimg(x,f\"{i}_{im_name}\",menu_name, project_folder, dataset_name, target, max_jobs)"
   ]
  },
  {
   "cell_type": "code",
   "execution_count": null,
   "metadata": {},
   "outputs": [],
   "source": [
    "source_list = [emnames,lmnames]\n",
    "settings = [{\"color\": \"white\", \"contrastLimits\": [0., 255.]}, {\"color\": \"green\", \"opacity\": 0.75}]"
   ]
  },
  {
   "cell_type": "code",
   "execution_count": null,
   "metadata": {},
   "outputs": [],
   "source": [
    "mobie.create_view(dataset_folder, \"default\",\n",
    "                  sources=source_list, display_settings=settings,\n",
    "                  overwrite=True)"
   ]
  },
  {
   "cell_type": "code",
   "execution_count": 10,
   "metadata": {},
   "outputs": [],
   "source": [
    "for dir in os.listdir(os.getcwd()):\n",
    "    if(dir[0:3] == \"tmp\"):\n",
    "        shutil.rmtree(dir)\n",
    "\n",
    "for file in os.listdir(\"data\"):\n",
    "    if(file[0:3] == \"tmp\"):\n",
    "        os.remove(os.path.join(\"data\",file))"
   ]
  }
 ],
 "metadata": {
  "kernelspec": {
   "display_name": "testmobie2",
   "language": "python",
   "name": "python3"
  },
  "language_info": {
   "codemirror_mode": {
    "name": "ipython",
    "version": 3
   },
   "file_extension": ".py",
   "mimetype": "text/x-python",
   "name": "python",
   "nbconvert_exporter": "python",
   "pygments_lexer": "ipython3",
   "version": "3.11.8"
  }
 },
 "nbformat": 4,
 "nbformat_minor": 2
}
